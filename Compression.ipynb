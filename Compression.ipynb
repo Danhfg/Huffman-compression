{
 "cells": [
  {
   "cell_type": "markdown",
   "metadata": {},
   "source": [
    "# Importações"
   ]
  },
  {
   "cell_type": "code",
   "execution_count": 1,
   "metadata": {},
   "outputs": [],
   "source": [
    "import sys\n",
    "from tree import Tree\n",
    "from node import Node\n",
    "import copy     # biblioteca para copiar uma variável para outra\n",
    "import binascii # biblioteca para trabalhar com binarios em ascII"
   ]
  },
  {
   "cell_type": "markdown",
   "metadata": {},
   "source": [
    "# Funções Auxiliares"
   ]
  },
  {
   "cell_type": "markdown",
   "metadata": {},
   "source": [
    "## Função para encontrar os dois nós com menores pesos"
   ]
  },
  {
   "cell_type": "code",
   "execution_count": 2,
   "metadata": {},
   "outputs": [],
   "source": [
    "def menores_nodes(nodes):\n",
    "    #m1, m2 = float('inf'), float('inf')\n",
    "    m1 = Node(None, None, float('inf'),'inf')\n",
    "    m2 = Node(None, None, float('inf'),'inf')\n",
    "    for x in nodes:\n",
    "        if x.get_apar() < m1.get_apar():\n",
    "            m1, m2 = x, m1\n",
    "        elif x.get_apar() < m2.get_apar():\n",
    "            m2 = x\n",
    "    return m1,m2"
   ]
  },
  {
   "cell_type": "markdown",
   "metadata": {},
   "source": [
    "## Função para imprimir uma árvore em pré-ordem"
   ]
  },
  {
   "cell_type": "code",
   "execution_count": 3,
   "metadata": {},
   "outputs": [],
   "source": [
    "def pre_ordem(node, s):\n",
    "    if(node != None):\n",
    "        print(str(s)+str(node.get_char()))\n",
    "        pre_ordem(node.get_e(), s+\"|\")\n",
    "        pre_ordem(node.get_d(), s+\"|\")"
   ]
  },
  {
   "cell_type": "markdown",
   "metadata": {},
   "source": [
    "## Função para criar a tabela de compactação em pré-ordem"
   ]
  },
  {
   "cell_type": "code",
   "execution_count": 4,
   "metadata": {},
   "outputs": [],
   "source": [
    "def tabela_pre(node, caminho, t):\n",
    "    if(node != None):\n",
    "        if(type(node.get_char()) == str ):\n",
    "            t[node.get_char()] = ''.join(caminho)\n",
    "        else:\n",
    "            caminho_e = caminho[:]\n",
    "            caminho_d = caminho[:]\n",
    "            caminho_e.append('0')\n",
    "            caminho_d.append('1')\n",
    "            tabela_pre(node.get_e(), caminho_e, t)\n",
    "            tabela_pre(node.get_d(), caminho_d, t)"
   ]
  },
  {
   "cell_type": "markdown",
   "metadata": {},
   "source": [
    "## Função para criar o cabeçalho do arquivo"
   ]
  },
  {
   "cell_type": "code",
   "execution_count": 5,
   "metadata": {},
   "outputs": [],
   "source": [
    "def cab(node, cabecalho_final,tabela_final):\n",
    "    if(node != None):\n",
    "        if(type(node.get_char()) == str):\n",
    "            cabecalho_final[0] += '1'\n",
    "            if (node.get_char() == 'EOF'):\n",
    "                cabecalho_final[0] += '1111111'\n",
    "                \n",
    "            else:\n",
    "                cabecalho_final[0] += '{:0>7}'.format(bin(int.from_bytes(node.get_char().encode(), 'big'))[2:])\n",
    "        else:\n",
    "            cabecalho_final[0] += '0'\n",
    "        cab(node.get_e(), cabecalho_final,tabela_final)\n",
    "        cab(node.get_d(), cabecalho_final,tabela_final)"
   ]
  },
  {
   "cell_type": "markdown",
   "metadata": {},
   "source": [
    "## Função para salvar o arquivo"
   ]
  },
  {
   "cell_type": "code",
   "execution_count": 6,
   "metadata": {},
   "outputs": [],
   "source": [
    "def salvar_arquivo(arquivo):    \n",
    "    with open('compact.bin', 'wb')as f:\n",
    "        i = 0\n",
    "        while (i < len(arquivo)):\n",
    "            if(i + 8 > len(arquivo)):\n",
    "                n = int('{:0<8}'.format(arquivo[i:]), 2)\n",
    "                f.write(n.to_bytes((n.bit_length() + 7) // 8, 'big'))\n",
    "                #print(n.to_bytes((n.bit_length() + 7) // 8, 'big'))\n",
    "            else:\n",
    "                n = int(arquivo[i:i+8], 2)\n",
    "                if (n == 0):\n",
    "                    f.write(b'\\x00')\n",
    "                    #print(b'\\x00')\n",
    "                else:\n",
    "                    f.write(n.to_bytes((n.bit_length() + 7) // 8, 'big'))\n",
    "                    #print(n.to_bytes((n.bit_length() + 7) // 8, 'big'))\n",
    "            i += 8"
   ]
  },
  {
   "cell_type": "markdown",
   "metadata": {},
   "source": [
    "# Função principal"
   ]
  },
  {
   "cell_type": "markdown",
   "metadata": {},
   "source": [
    "## Função principal que cria o arquivo compactado"
   ]
  },
  {
   "cell_type": "code",
   "execution_count": 8,
   "metadata": {},
   "outputs": [
    {
     "name": "stdout",
     "output_type": "stream",
     "text": [
      "Tabela de codificação:  {'d': '00000', 'h': '000010', 'q': '000011', 'l': '0001', 'e': '001', 'r': '0100', 'n': '0101', 'p': '01100', 'b': '011010', 'v': '011011', 's': '0111', ' ': '100', 'f': '1010000', 'g': '1010001', 'N': '10100100000', 'EOF': '10100100001', '\\n': '1010010001', 'j': '1010010010', 'A': '10100100110', 'L': '101001001110', 'V': '101001001111', '.': '10100101', ',': '1010011', 'o': '10101', 'c': '10110', 'm': '10111', 'a': '1100', 'u': '1101', 't': '1110', 'i': '1111'}\n",
      "Arquivo compactado criado com sucesso (compact.txt)!!!!!\n"
     ]
    }
   ],
   "source": [
    "def main():\n",
    "    conteudo = \"\"\n",
    "    # print command line arguments\n",
    "    #for arg in sys.argv[1:]:\n",
    "    #    print(arg)\n",
    "    #    with open(arg, 'r') as file:\n",
    "    #        conteudo += file.read()\n",
    "    arquivo = \"teste_1.txt\"\n",
    "    try:\n",
    "        with open(arquivo, 'r') as file:\n",
    "            conteudo += file.read()\n",
    "        tabela_inicial = {}\n",
    "        for i in list(conteudo):\n",
    "            tabela_inicial[i] = list(conteudo).count(i)\n",
    "        tabela_inicial[\"EOF\"] = 1\n",
    "        #print(tabela_inicial)\n",
    "\n",
    "        nodes = []\n",
    "        #Criar lista de árvores com um nó\n",
    "        for chave in tabela_inicial:\n",
    "            nodes.append(Node(None, None, tabela_inicial[chave], chave))\n",
    "\n",
    "        #Algoritmo de Huffman\n",
    "        while len(nodes) > 1:\n",
    "            menores = menores_nodes (nodes)\n",
    "            node_pai = Node(menores[0], menores[1],\n",
    "                            menores[0].get_apar() + menores[1].get_apar(),\n",
    "                            menores[0].get_apar() + menores[1].get_apar())\n",
    "            nodes.remove(menores[0])\n",
    "            nodes.remove(menores[1])\n",
    "            nodes.append(node_pai)\n",
    "\n",
    "        #criação da árvore\n",
    "        tree = Tree(nodes[0])\n",
    "        root = tree.get_root()\n",
    "        #r = tree.get_root()\n",
    "        #pre_ordem(r, \"\")\n",
    "\n",
    "        #Criação da tabela de codificação\n",
    "        tabela_final = {}\n",
    "        tabela_pre(root, [], tabela_final)\n",
    "        print(\"Tabela de codificação: \", tabela_final)\n",
    "\n",
    "        #Codificação do texto a partir da tabela\n",
    "        cod = \"\"\n",
    "        for i in conteudo:\n",
    "            cod += tabela_final[i]\n",
    "        #Adicionar sinalização de final do arquivo\n",
    "        cod += tabela_final['EOF']\n",
    "\n",
    "        #Criando cabeçalho do arquivo\n",
    "        cab_e_texto = [\"\"]\n",
    "        cab(root, cab_e_texto,tabela_final)\n",
    "        cab_e_texto = cab_e_texto[0]\n",
    "        #print(cab_e_texto)\n",
    "\n",
    "        #Unificando cabeçalho e o conteudo do texto já em binário\n",
    "        arquivo = cab_e_texto + cod\n",
    "        arquivo[:]\n",
    "\n",
    "        salvar_arquivo(arquivo)\n",
    "        print(\"Arquivo compactado criado com sucesso (compact.txt)!!!!!\")\n",
    "    except:\n",
    "        print (\"Não existe arquivo chamado\", arquivo)\n",
    "\n",
    "if __name__ == \"__main__\":\n",
    "    main()"
   ]
  }
 ],
 "metadata": {
  "kernelspec": {
   "display_name": "Python 3",
   "language": "python",
   "name": "python3"
  },
  "language_info": {
   "codemirror_mode": {
    "name": "ipython",
    "version": 3
   },
   "file_extension": ".py",
   "mimetype": "text/x-python",
   "name": "python",
   "nbconvert_exporter": "python",
   "pygments_lexer": "ipython3",
   "version": "3.6.4"
  }
 },
 "nbformat": 4,
 "nbformat_minor": 2
}
