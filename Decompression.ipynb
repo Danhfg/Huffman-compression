{
 "cells": [
  {
   "cell_type": "markdown",
   "metadata": {},
   "source": [
    "# Importações"
   ]
  },
  {
   "cell_type": "code",
   "execution_count": 6,
   "metadata": {},
   "outputs": [],
   "source": [
    "import sys\n",
    "from tree import Tree\n",
    "from node import Node\n",
    "import copy     # biblioteca para copiar uma variável para outra\n",
    "import binascii # biblioteca para trabalhar com binarios em ascII"
   ]
  },
  {
   "cell_type": "markdown",
   "metadata": {},
   "source": [
    "# Funções auxiliares"
   ]
  },
  {
   "cell_type": "markdown",
   "metadata": {},
   "source": [
    "## Função que cria a árvore de Huffman"
   ]
  },
  {
   "cell_type": "code",
   "execution_count": 7,
   "metadata": {},
   "outputs": [],
   "source": [
    "def decode(string_cod):\n",
    "    if(string_cod != \"\"):\n",
    "\n",
    "        stack = []\n",
    "\n",
    "        node = Node(None, None, 'raiz', 0)\n",
    "        #new_node = (None, None, 'raiz', 'raiz')\n",
    "        stack.append(node)\n",
    "        tree = Tree(node)\n",
    "\n",
    "        index = 1\n",
    "        while (len(stack) != 0 and index < len(string_cod)): \n",
    "            if (string_cod[index] == '0'):\n",
    "                node = Node(None, None, 'n-folha', 0)\n",
    "            elif(string_cod[index] == '1'):\n",
    "                aux = string_cod[index + 1: index + 8];\n",
    "                if(aux == '1111111'):\n",
    "                    #print(aux, 'EOF')\n",
    "                    node = Node(None, None, 'folha', 'EOF')\n",
    "                    index+= 7\n",
    "                else:\n",
    "                    convert = int(aux, 2)\n",
    "                    #print(aux, convert, end=' ')\n",
    "                    convert = convert.to_bytes((convert.bit_length() + 7) // 8, 'big').decode()\n",
    "                    #print(convert)\n",
    "                    node = Node(None, None, 'folha', convert)\n",
    "                    index+= 7\n",
    "            if(stack[-1].get_e() == None):\n",
    "                stack[-1].set_e(node)\n",
    "            else:\n",
    "                stack[-1].set_d(node)\n",
    "                stack.pop()\n",
    "            if(type(node.get_char()) == int):\n",
    "                stack.append(node)\n",
    "            index+=1\n",
    "    return (tree.get_root(), index)"
   ]
  },
  {
   "cell_type": "markdown",
   "metadata": {},
   "source": [
    "## Função que decodifica o resto dos caracteres lidos com base na árvore criada"
   ]
  },
  {
   "cell_type": "code",
   "execution_count": 8,
   "metadata": {},
   "outputs": [],
   "source": [
    "def decode_char(root, pos, string):\n",
    "    if(root != None):\n",
    "        if(root.get_e() == None and root.get_d() == None):\n",
    "            return str(root.get_char())\n",
    "        pos[0] = pos[0] + 1\n",
    "        if (string[pos[0]] == '0' ):\n",
    "            return decode_char(root.get_e(), pos, string)\n",
    "        else:\n",
    "            return decode_char(root.get_d(), pos, string)"
   ]
  },
  {
   "cell_type": "markdown",
   "metadata": {},
   "source": [
    "## Função que salva o arquivo descompactado"
   ]
  },
  {
   "cell_type": "code",
   "execution_count": 9,
   "metadata": {},
   "outputs": [],
   "source": [
    "def salvar_arquivo_descompactado(arquivo):    \n",
    "    with open('descompact.txt', 'w')as f:\n",
    "        f.write(arquivo)"
   ]
  },
  {
   "cell_type": "markdown",
   "metadata": {},
   "source": [
    "# Função Principal"
   ]
  },
  {
   "cell_type": "code",
   "execution_count": 10,
   "metadata": {},
   "outputs": [
    {
     "name": "stdout",
     "output_type": "stream",
     "text": [
      "Arquivo descompactado com sucesso(descompact.txt)!!!!\n"
     ]
    }
   ],
   "source": [
    "def main():\n",
    "    # print command line arguments\n",
    "    #for arg in sys.argv[1:]:\n",
    "    #    print(arg)\n",
    "    #    with open('arquivo.bin', 'rb')as f:\n",
    "    #    byte = (f.read(1))\n",
    "    #    while len (byte)>0:# != b'':\n",
    "    #        #print(byte)\n",
    "    #        print('{:0>8}'.format(bin(int.from_bytes(byte, byteorder=sys.byteorder))[2:]), end=\"\")\n",
    "    #        cadeia_binaria +=('{:0>8}'.format(bin(int.from_bytes(byte, byteorder=sys.byteorder))[2:]) )\n",
    "    #        #print('{:0>8}'.format(bin(int.from_bytes(byte, byteorder=sys.byteorder))[2:]), end=\"\")\n",
    "    #        byte = f.read(1)\n",
    "    cadeia_binaria = \"\"\n",
    "    ## Leitura do arquivo binário\n",
    "    arq = 'compact.bin'\n",
    "    try:\n",
    "        with open(arq, 'rb')as f:\n",
    "            byte = (f.read(1))\n",
    "            while len (byte)>0:# != b'':\n",
    "                #print(byte)\n",
    "                #print('{:0>8}'.format(bin(int.from_bytes(byte, byteorder=sys.byteorder))[2:]), end=\"\")\n",
    "                cadeia_binaria +=('{:0>8}'.format(bin(int.from_bytes(byte, byteorder=sys.byteorder))[2:]) )\n",
    "                byte = f.read(1)\n",
    "\n",
    "        ## Decodificação do cabeçalho e obtenção do index de onde começa o texto\n",
    "        root_dec, pos = decode(cadeia_binaria)\n",
    "\n",
    "        ## Decodificação do texto com base no cabeçalho \n",
    "        tree_dec = Tree(root_dec)\n",
    "        char_atual = \"\"\n",
    "        texto_completo = \"\"\n",
    "        root_dec = copy.copy(tree_dec.get_root())\n",
    "        pos = [pos - 1]\n",
    "        while (char_atual!= \"EOF\"):\n",
    "            root_dec = copy.copy(tree_dec.get_root())\n",
    "            char_atual = decode_char(root_dec, pos, cadeia_binaria)\n",
    "            texto_completo += char_atual\n",
    "\n",
    "        ## Retirada do EOF(End Of File) do texto\n",
    "        texto_completo = texto_completo[:-3]\n",
    "\n",
    "        ## salvamento do texto completo em um arquivo \n",
    "        salvar_arquivo_descompactado(texto_completo)\n",
    "        print(\"Arquivo descompactado com sucesso(descompact.txt)!!!!\")\n",
    "    except:\n",
    "        print (\"Não existe arquivo chamado:\", arq)\n",
    "        \n",
    "if __name__ == \"__main__\":\n",
    "    main()\n"
   ]
  },
  {
   "cell_type": "code",
   "execution_count": null,
   "metadata": {},
   "outputs": [],
   "source": []
  }
 ],
 "metadata": {
  "kernelspec": {
   "display_name": "Python 3",
   "language": "python",
   "name": "python3"
  },
  "language_info": {
   "codemirror_mode": {
    "name": "ipython",
    "version": 3
   },
   "file_extension": ".py",
   "mimetype": "text/x-python",
   "name": "python",
   "nbconvert_exporter": "python",
   "pygments_lexer": "ipython3",
   "version": "3.6.4"
  }
 },
 "nbformat": 4,
 "nbformat_minor": 2
}
